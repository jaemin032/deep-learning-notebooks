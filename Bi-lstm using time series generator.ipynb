{
 "cells": [
  {
   "cell_type": "code",
   "execution_count": 4,
   "metadata": {},
   "outputs": [],
   "source": [
    "from keras.models import Sequential\n",
    "from keras.layers import Dense, Bidirectional, LSTM, Dropout\n",
    "from keras.preprocessing.sequence import TimeseriesGenerator\n",
    "from sklearn.preprocessing import MinMaxScaler"
   ]
  },
  {
   "cell_type": "code",
   "execution_count": 5,
   "metadata": {},
   "outputs": [],
   "source": [
    "a = list([i] for i in range(1000))\n",
    "b = list([i] for i in range(1000))"
   ]
  },
  {
   "cell_type": "code",
   "execution_count": 6,
   "metadata": {},
   "outputs": [],
   "source": [
    "# normalize the dataset\n",
    "scaler = MinMaxScaler(feature_range=(0, 1))\n",
    "a = scaler.fit_transform(a)\n",
    "b = scaler.fit_transform(b)"
   ]
  },
  {
   "cell_type": "code",
   "execution_count": 7,
   "metadata": {},
   "outputs": [],
   "source": [
    "generator = TimeseriesGenerator(a, b, length=10, sampling_rate=1,stride=1, batch_size=3)"
   ]
  },
  {
   "cell_type": "code",
   "execution_count": 10,
   "metadata": {},
   "outputs": [],
   "source": [
    "def build_model():\n",
    "    model = Sequential()\n",
    "    model.add(Bidirectional(LSTM(64), input_shape=(10,1)))\n",
    "    model.add(Dropout(0.5))\n",
    "    model.add(Dense(1, activation='sigmoid'))\n",
    "    model.compile('adam', 'binary_crossentropy', metrics=['accuracy'])\n",
    "    return model"
   ]
  },
  {
   "cell_type": "code",
   "execution_count": 11,
   "metadata": {},
   "outputs": [],
   "source": [
    "model = build_model()\n",
    "model.compile(optimizer='rmsprop', loss='mean_squared_error')"
   ]
  },
  {
   "cell_type": "code",
   "execution_count": null,
   "metadata": {},
   "outputs": [
    {
     "name": "stdout",
     "output_type": "stream",
     "text": [
      "Epoch 1/100\n",
      "330/330 [==============================] - 2s 7ms/step - loss: 0.0179\n",
      "Epoch 2/100\n",
      "330/330 [==============================] - 2s 5ms/step - loss: 0.0022\n",
      "Epoch 3/100\n",
      "330/330 [==============================] - 1s 5ms/step - loss: 0.0016\n",
      "Epoch 4/100\n",
      "330/330 [==============================] - 1s 4ms/step - loss: 9.4470e-04\n",
      "Epoch 5/100\n",
      "330/330 [==============================] - 1s 4ms/step - loss: 8.0601e-04\n",
      "Epoch 6/100\n",
      "330/330 [==============================] - 1s 4ms/step - loss: 8.4731e-04\n",
      "Epoch 7/100\n",
      "330/330 [==============================] - 2s 5ms/step - loss: 8.0476e-04\n",
      "Epoch 8/100\n",
      "330/330 [==============================] - 2s 5ms/step - loss: 7.5502e-04\n",
      "Epoch 9/100\n",
      "330/330 [==============================] - 2s 5ms/step - loss: 7.1579e-04\n",
      "Epoch 10/100\n",
      "330/330 [==============================] - 2s 5ms/step - loss: 6.5999e-04\n",
      "Epoch 11/100\n",
      "330/330 [==============================] - 2s 5ms/step - loss: 6.9846e-04\n",
      "Epoch 12/100\n",
      "330/330 [==============================] - ETA: 0s - loss: 6.6568e-0 - 2s 5ms/step - loss: 6.5672e-04\n",
      "Epoch 13/100\n",
      "330/330 [==============================] - 2s 5ms/step - loss: 6.3541e-04\n",
      "Epoch 14/100\n",
      "330/330 [==============================] - 2s 5ms/step - loss: 6.4302e-04\n",
      "Epoch 15/100\n",
      "330/330 [==============================] - 2s 5ms/step - loss: 6.2563e-04\n",
      "Epoch 16/100\n",
      "330/330 [==============================] - 2s 5ms/step - loss: 5.9942e-04\n",
      "Epoch 17/100\n",
      "330/330 [==============================] - 2s 5ms/step - loss: 6.0525e-04\n",
      "Epoch 18/100\n",
      "330/330 [==============================] - 2s 6ms/step - loss: 6.2399e-04\n",
      "Epoch 19/100\n",
      "330/330 [==============================] - 2s 5ms/step - loss: 5.5371e-04\n",
      "Epoch 20/100\n",
      "330/330 [==============================] - 2s 5ms/step - loss: 5.9213e-04\n",
      "Epoch 21/100\n",
      "330/330 [==============================] - 2s 5ms/step - loss: 5.6994e-04\n",
      "Epoch 22/100\n",
      "330/330 [==============================] - 1s 4ms/step - loss: 5.8983e-04\n",
      "Epoch 23/100\n",
      "330/330 [==============================] - 1s 4ms/step - loss: 5.8277e-04\n",
      "Epoch 24/100\n",
      "330/330 [==============================] - 1s 4ms/step - loss: 5.4116e-04\n",
      "Epoch 25/100\n",
      "330/330 [==============================] - ETA: 0s - loss: 5.2046e-0 - 2s 5ms/step - loss: 5.1753e-04\n",
      "Epoch 26/100\n",
      "330/330 [==============================] - 2s 5ms/step - loss: 5.3655e-04\n",
      "Epoch 27/100\n",
      "330/330 [==============================] - 1s 4ms/step - loss: 5.6681e-04\n",
      "Epoch 28/100\n",
      "330/330 [==============================] - 1s 5ms/step - loss: 5.2094e-04\n",
      "Epoch 29/100\n",
      "330/330 [==============================] - 1s 4ms/step - loss: 5.4422e-04\n",
      "Epoch 30/100\n",
      "330/330 [==============================] - 1s 4ms/step - loss: 6.0808e-04\n",
      "Epoch 31/100\n",
      "330/330 [==============================] - 2s 5ms/step - loss: 5.3406e-04\n",
      "Epoch 32/100\n",
      "330/330 [==============================] - 1s 5ms/step - loss: 4.8475e-04\n",
      "Epoch 33/100\n",
      "330/330 [==============================] - 1s 4ms/step - loss: 5.4425e-04\n",
      "Epoch 34/100\n",
      "330/330 [==============================] - 1s 4ms/step - loss: 4.9890e-04\n",
      "Epoch 35/100\n",
      "330/330 [==============================] - 1s 4ms/step - loss: 5.5200e-04\n",
      "Epoch 36/100\n",
      "330/330 [==============================] - 1s 4ms/step - loss: 4.8478e-04\n",
      "Epoch 37/100\n",
      "330/330 [==============================] - 1s 4ms/step - loss: 5.6055e-04\n",
      "Epoch 38/100\n",
      "330/330 [==============================] - 1s 4ms/step - loss: 4.7392e-04\n",
      "Epoch 39/100\n",
      "330/330 [==============================] - 1s 4ms/step - loss: 4.7551e-04\n",
      "Epoch 40/100\n",
      "330/330 [==============================] - 1s 4ms/step - loss: 5.1985e-04\n",
      "Epoch 41/100\n",
      "330/330 [==============================] - 1s 4ms/step - loss: 5.1593e-04\n",
      "Epoch 42/100\n",
      "330/330 [==============================] - 1s 4ms/step - loss: 5.1565e-04\n",
      "Epoch 43/100\n",
      "330/330 [==============================] - 1s 4ms/step - loss: 4.9843e-04\n",
      "Epoch 44/100\n",
      "330/330 [==============================] - 2s 5ms/step - loss: 4.8773e-04\n",
      "Epoch 45/100\n",
      "330/330 [==============================] - 1s 4ms/step - loss: 4.6545e-04\n",
      "Epoch 46/100\n",
      "330/330 [==============================] - 2s 5ms/step - loss: 4.6990e-04\n",
      "Epoch 47/100\n",
      "330/330 [==============================] - 2s 5ms/step - loss: 5.0772e-04\n",
      "Epoch 48/100\n",
      "330/330 [==============================] - 3s 10ms/step - loss: 4.7150e-04\n",
      "Epoch 49/100\n",
      "330/330 [==============================] - 3s 10ms/step - loss: 4.8585e-04\n",
      "Epoch 50/100\n",
      "330/330 [==============================] - 2s 5ms/step - loss: 4.6100e-04\n",
      "Epoch 51/100\n",
      "330/330 [==============================] - 2s 5ms/step - loss: 4.6083e-04\n",
      "Epoch 52/100\n",
      "330/330 [==============================] - 2s 6ms/step - loss: 4.3244e-04\n",
      "Epoch 53/100\n",
      "330/330 [==============================] - 2s 5ms/step - loss: 4.7364e-04\n",
      "Epoch 54/100\n",
      "330/330 [==============================] - 2s 5ms/step - loss: 4.3906e-04\n",
      "Epoch 55/100\n",
      "330/330 [==============================] - 2s 5ms/step - loss: 4.6480e-04\n",
      "Epoch 56/100\n",
      "330/330 [==============================] - 2s 7ms/step - loss: 4.3350e-04\n",
      "Epoch 57/100\n",
      "330/330 [==============================] - 2s 6ms/step - loss: 4.1374e-04\n",
      "Epoch 58/100\n",
      "330/330 [==============================] - 2s 5ms/step - loss: 4.5086e-04\n",
      "Epoch 59/100\n",
      "330/330 [==============================] - 2s 5ms/step - loss: 4.2571e-04\n",
      "Epoch 60/100\n",
      "330/330 [==============================] - 1s 4ms/step - loss: 4.3601e-04\n",
      "Epoch 61/100\n",
      "330/330 [==============================] - 1s 4ms/step - loss: 4.4140e-04\n",
      "Epoch 62/100\n",
      "330/330 [==============================] - 1s 4ms/step - loss: 4.5057e-04\n",
      "Epoch 63/100\n",
      "330/330 [==============================] - 1s 4ms/step - loss: 4.8255e-04\n",
      "Epoch 64/100\n",
      "330/330 [==============================] - 1s 4ms/step - loss: 4.1449e-04\n",
      "Epoch 65/100\n",
      "330/330 [==============================] - 2s 5ms/step - loss: 4.6703e-04\n",
      "Epoch 66/100\n",
      "330/330 [==============================] - 1s 4ms/step - loss: 4.4041e-04\n",
      "Epoch 67/100\n",
      "330/330 [==============================] - 2s 5ms/step - loss: 4.5695e-04\n",
      "Epoch 68/100\n",
      " 96/330 [=======>......................] - ETA: 1s - loss: 4.8300e-04"
     ]
    }
   ],
   "source": [
    "model.fit_generator(generator, epochs = 100)"
   ]
  },
  {
   "cell_type": "code",
   "execution_count": null,
   "metadata": {},
   "outputs": [],
   "source": [
    "model.predict(generator[200][0])"
   ]
  },
  {
   "cell_type": "code",
   "execution_count": null,
   "metadata": {},
   "outputs": [],
   "source": [
    "generator[200][1]"
   ]
  },
  {
   "cell_type": "code",
   "execution_count": null,
   "metadata": {},
   "outputs": [],
   "source": []
  }
 ],
 "metadata": {
  "kernelspec": {
   "display_name": "Python 3",
   "language": "python",
   "name": "python3"
  },
  "language_info": {
   "codemirror_mode": {
    "name": "ipython",
    "version": 3
   },
   "file_extension": ".py",
   "mimetype": "text/x-python",
   "name": "python",
   "nbconvert_exporter": "python",
   "pygments_lexer": "ipython3",
   "version": "3.6.8"
  }
 },
 "nbformat": 4,
 "nbformat_minor": 2
}
