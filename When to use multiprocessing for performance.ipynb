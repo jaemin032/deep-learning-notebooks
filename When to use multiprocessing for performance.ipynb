{
 "cells": [
  {
   "cell_type": "code",
   "execution_count": null,
   "metadata": {},
   "outputs": [],
   "source": [
    "!pip install multiprocess\n"
   ]
  },
  {
   "cell_type": "markdown",
   "metadata": {},
   "source": [
    "일반 multiprocessing 모듈을 윈도우 jupyter-notebook 에서 사용할 경우 작업이 끝나지 않거나 에러가 나는 현상이 발생한다.\n",
    "따라서 이를 개선한 외부 패키지를 사용하면 된다\n"
   ]
  },
  {
   "cell_type": "code",
   "execution_count": 9,
   "metadata": {},
   "outputs": [],
   "source": [
    "from multiprocess import Pool\n",
    "import time\n",
    "\n",
    "start = time.time()\n",
    "# run your code\n",
    "end = time.time()\n",
    "\n",
    "elapsed = end - start"
   ]
  },
  {
   "cell_type": "code",
   "execution_count": 29,
   "metadata": {},
   "outputs": [],
   "source": [
    "p = Pool(4)"
   ]
  },
  {
   "cell_type": "markdown",
   "metadata": {},
   "source": [
    "간단한 세제곱 함수의 경우 Multiprocess를 사용하는 것이 일반 for문을 사용하는 것에 비해 5배 이상 오래 걸리는 것이 확인 가능하다"
   ]
  },
  {
   "cell_type": "code",
   "execution_count": 30,
   "metadata": {},
   "outputs": [
    {
     "name": "stdout",
     "output_type": "stream",
     "text": [
      "0.20899462699890137\n"
     ]
    }
   ],
   "source": [
    "start = time.time()\n",
    "\n",
    "# run your code\n",
    "test = p.map(lambda x: x**3, range(100000))\n",
    "\n",
    "end = time.time()\n",
    "elapsed = end - start\n",
    "print(elapsed)"
   ]
  },
  {
   "cell_type": "code",
   "execution_count": 31,
   "metadata": {},
   "outputs": [
    {
     "name": "stdout",
     "output_type": "stream",
     "text": [
      "0.03999972343444824\n"
     ]
    }
   ],
   "source": [
    "start = time.time()\n",
    "\n",
    "# run your code\n",
    "test = []\n",
    "for i in range(100000):\n",
    "    test.append(i**3)\n",
    "\n",
    "end = time.time()\n",
    "elapsed = end - start\n",
    "print(elapsed)"
   ]
  },
  {
   "cell_type": "markdown",
   "metadata": {},
   "source": [
    "https://stackoverflow.com/questions/32020662/python-multiprocessing-takes-more-time\n",
    "\n",
    "세제곱 함수를 아래와 같이 모든 세제곱의 합으로 조금 더 복잡한 함수를 실행시 시간이 단축되는 것이 확인 가능\n",
    "    \n"
   ]
  },
  {
   "cell_type": "code",
   "execution_count": 14,
   "metadata": {},
   "outputs": [],
   "source": [
    "def sum_of_cubes(n):\n",
    "    return sum(x**3 for x in range(n))"
   ]
  },
  {
   "cell_type": "code",
   "execution_count": 15,
   "metadata": {},
   "outputs": [
    {
     "name": "stdout",
     "output_type": "stream",
     "text": [
      "9.169055223464966\n"
     ]
    }
   ],
   "source": [
    "start = time.time()\n",
    "# run your code\n",
    "test = p.map(sum_of_cubes, range(10000))\n",
    "end = time.time()\n",
    "\n",
    "elapsed = end - start\n",
    "print(elapsed)"
   ]
  },
  {
   "cell_type": "code",
   "execution_count": 16,
   "metadata": {},
   "outputs": [
    {
     "name": "stdout",
     "output_type": "stream",
     "text": [
      "20.474198818206787\n"
     ]
    }
   ],
   "source": [
    "start = time.time()\n",
    "# run your code\n",
    "test = []\n",
    "for i in range(10000):\n",
    "    test.append(sum_of_cubes(i))\n",
    "\n",
    "end = time.time()\n",
    "\n",
    "elapsed = end - start\n",
    "print(elapsed)"
   ]
  },
  {
   "cell_type": "code",
   "execution_count": null,
   "metadata": {},
   "outputs": [],
   "source": []
  }
 ],
 "metadata": {
  "kernelspec": {
   "display_name": "Python 3",
   "language": "python",
   "name": "python3"
  },
  "language_info": {
   "codemirror_mode": {
    "name": "ipython",
    "version": 3
   },
   "file_extension": ".py",
   "mimetype": "text/x-python",
   "name": "python",
   "nbconvert_exporter": "python",
   "pygments_lexer": "ipython3",
   "version": "3.6.8"
  }
 },
 "nbformat": 4,
 "nbformat_minor": 2
}
